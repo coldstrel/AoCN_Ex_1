{
  "cells": [
    {
      "cell_type": "markdown",
      "metadata": {
        "id": "zMM5Xq3n9Yk8"
      },
      "source": [
        "# Exercise 1\n",
        "## Group 3\n",
        "FERNANDEZ FRAGOSO Aldo Enrique"
      ]
    },
    {
      "cell_type": "code",
      "execution_count": null,
      "metadata": {
        "colab": {
          "base_uri": "https://localhost:8080/"
        },
        "id": "oHY-MhlL-h_c",
        "outputId": "fedbf6bd-31ed-4416-ce08-afbb0c4561b1"
      },
      "outputs": [
        {
          "name": "stdout",
          "output_type": "stream",
          "text": [
            "Requirement already satisfied: networkx[default] in /usr/local/lib/python3.10/dist-packages (3.3)\n",
            "Requirement already satisfied: numpy>=1.23 in /usr/local/lib/python3.10/dist-packages (from networkx[default]) (1.26.4)\n",
            "Requirement already satisfied: scipy!=1.11.0,!=1.11.1,>=1.9 in /usr/local/lib/python3.10/dist-packages (from networkx[default]) (1.13.1)\n",
            "Requirement already satisfied: matplotlib>=3.6 in /usr/local/lib/python3.10/dist-packages (from networkx[default]) (3.7.1)\n",
            "Requirement already satisfied: pandas>=1.4 in /usr/local/lib/python3.10/dist-packages (from networkx[default]) (2.1.4)\n",
            "Requirement already satisfied: contourpy>=1.0.1 in /usr/local/lib/python3.10/dist-packages (from matplotlib>=3.6->networkx[default]) (1.3.0)\n",
            "Requirement already satisfied: cycler>=0.10 in /usr/local/lib/python3.10/dist-packages (from matplotlib>=3.6->networkx[default]) (0.12.1)\n",
            "Requirement already satisfied: fonttools>=4.22.0 in /usr/local/lib/python3.10/dist-packages (from matplotlib>=3.6->networkx[default]) (4.53.1)\n",
            "Requirement already satisfied: kiwisolver>=1.0.1 in /usr/local/lib/python3.10/dist-packages (from matplotlib>=3.6->networkx[default]) (1.4.7)\n",
            "Requirement already satisfied: packaging>=20.0 in /usr/local/lib/python3.10/dist-packages (from matplotlib>=3.6->networkx[default]) (24.1)\n",
            "Requirement already satisfied: pillow>=6.2.0 in /usr/local/lib/python3.10/dist-packages (from matplotlib>=3.6->networkx[default]) (10.4.0)\n",
            "Requirement already satisfied: pyparsing>=2.3.1 in /usr/local/lib/python3.10/dist-packages (from matplotlib>=3.6->networkx[default]) (3.1.4)\n",
            "Requirement already satisfied: python-dateutil>=2.7 in /usr/local/lib/python3.10/dist-packages (from matplotlib>=3.6->networkx[default]) (2.8.2)\n",
            "Requirement already satisfied: pytz>=2020.1 in /usr/local/lib/python3.10/dist-packages (from pandas>=1.4->networkx[default]) (2024.2)\n",
            "Requirement already satisfied: tzdata>=2022.1 in /usr/local/lib/python3.10/dist-packages (from pandas>=1.4->networkx[default]) (2024.1)\n",
            "Requirement already satisfied: six>=1.5 in /usr/local/lib/python3.10/dist-packages (from python-dateutil>=2.7->matplotlib>=3.6->networkx[default]) (1.16.0)\n"
          ]
        }
      ],
      "source": [
        "#!pip install networkx[default]"
      ]
    },
    {
      "cell_type": "code",
      "execution_count": 1,
      "metadata": {
        "id": "718AbMC28Xr8"
      },
      "outputs": [],
      "source": [
        "## Importing necessary packages\n",
        "import networkx as nx\n",
        "import pandas as pd\n",
        "import requests"
      ]
    },
    {
      "cell_type": "markdown",
      "metadata": {
        "id": "awfesU8YROMn"
      },
      "source": [
        "## Facebook Dataset"
      ]
    },
    {
      "cell_type": "code",
      "execution_count": 3,
      "metadata": {
        "colab": {
          "base_uri": "https://localhost:8080/",
          "height": 124
        },
        "id": "GAlNdVEpOA76",
        "outputId": "38f48319-e299-4e16-d4ad-665ab8751df7"
      },
      "outputs": [
        {
          "name": "stdout",
          "output_type": "stream",
          "text": [
            "File downloaded successfully.\n",
            "File downloaded successfully.\n",
            "File downloaded successfully.\n",
            "File downloaded successfully.\n"
          ]
        },
        {
          "data": {
            "application/vnd.google.colaboratory.intrinsic+json": {
              "type": "string"
            },
            "text/plain": [
              "'Finished downloading'"
            ]
          },
          "execution_count": 3,
          "metadata": {},
          "output_type": "execute_result"
        }
      ],
      "source": [
        "urls = [\"https://raw.githubusercontent.com/1250326/exercise_complex_network/e478a2b7e0cc8c0746d4c689a7c52504277a80e1/Datasets/Group3/Facebook-Ego/348.edges\",\n",
        "        \"https://raw.githubusercontent.com/1250326/exercise_complex_network/e478a2b7e0cc8c0746d4c689a7c52504277a80e1/Datasets/Group3/Facebook-Ego/348.egofeat\",\n",
        "        \"https://raw.githubusercontent.com/1250326/exercise_complex_network/e478a2b7e0cc8c0746d4c689a7c52504277a80e1/Datasets/Group3/Facebook-Ego/348.feat\",\n",
        "        \"https://raw.githubusercontent.com/1250326/exercise_complex_network/e478a2b7e0cc8c0746d4c689a7c52504277a80e1/Datasets/Group3/Facebook-Ego/348.featnames\"]\n",
        "\n",
        "def download_data(urls):\n",
        "  name = []\n",
        "  i = 0\n",
        "  for url in urls:\n",
        "    response = requests.get(url)\n",
        "    name.append(response.url.split('/')[-1])\n",
        "\n",
        "    if response.status_code == 200:\n",
        "        with open(name[i], \"wb\") as file:\n",
        "            file.write(response.content)\n",
        "            i = i+1\n",
        "        print(\"File downloaded successfully.\")\n",
        "\n",
        "    else:\n",
        "        print(\"Failed to download the file.\")\n",
        "  return \"Finished downloading\"\n",
        "\n",
        "download_data(urls)"
      ]
    },
    {
      "cell_type": "code",
      "execution_count": 37,
      "metadata": {
        "id": "gknXvwET_QE-"
      },
      "outputs": [],
      "source": [
        "## Extracting datasets\n",
        "features_file = \"348.edges\"\n",
        "edges_file = \"348.edges\"\n",
        "egofeat_file = \"348.egofeat\"\n",
        "featnames_file = \"348.featnames\"\n",
        "\n",
        "G = nx.read_edgelist(edges_file, nodetype=int)\n",
        "features = pd.read_csv(features_file, sep=\" \", header=None)\n",
        "ego_features = pd.read_csv(egofeat_file, sep=\" \", header=None)\n",
        "feat_names = pd.read_csv(featnames_file, sep=\" \", header=None)"
      ]
    },
    {
      "cell_type": "code",
      "execution_count": 38,
      "metadata": {
        "id": "0D6WpT7NFa3l"
      },
      "outputs": [],
      "source": [
        "# Add features to each node in the graph\n",
        "for i, node in enumerate(G.nodes()):\n",
        "    G.nodes[node]['features'] = features.iloc[i].values\n"
      ]
    },
    {
      "cell_type": "code",
      "execution_count": 42,
      "metadata": {
        "colab": {
          "base_uri": "https://localhost:8080/"
        },
        "id": "rPUY5ZLPILPO",
        "outputId": "8c4faf41-898a-4c9a-af62-8f200454e805"
      },
      "outputs": [
        {
          "name": "stdout",
          "output_type": "stream",
          "text": [
            "Number of edges: 1248\n",
            "Number of nodes in the graph: 148\n"
          ]
        }
      ],
      "source": [
        "# (a) How many nodes and edges are there in the networks?\n",
        "print(f'Number of edges: {G.number_of_edges()}')\n",
        "print(f'Number of nodes in the graph: {len(G)}')"
      ]
    },
    {
      "cell_type": "code",
      "execution_count": 44,
      "metadata": {
        "colab": {
          "base_uri": "https://localhost:8080/"
        },
        "id": "JzAJO5BLLE1A",
        "outputId": "8aa1a86e-27be-41cd-9d4f-9f04ea47f69e"
      },
      "outputs": [
        {
          "name": "stdout",
          "output_type": "stream",
          "text": [
            "Max degree: 64\n",
            "Average Degree: 16.864864864864863\n"
          ]
        }
      ],
      "source": [
        "# (b) What are the maximum degree and the average degree of the networks?\n",
        "number_edges = G.number_of_edges()\n",
        "number_nodes = G.number_of_nodes()\n",
        "degree_sequence = sorted((d for n, d in G.degree()), reverse=True)\n",
        "print(f'Max degree: {max(degree_sequence)}')\n",
        "print(f'Average Degree: {2*number_edges / number_nodes}')"
      ]
    },
    {
      "cell_type": "code",
      "execution_count": 48,
      "metadata": {
        "id": "2qD2g4zaPHc7"
      },
      "outputs": [],
      "source": [
        "# (c) Extract 5 - 8 nodes from the network and state them as a partial network. What is the adjacency\n",
        "# matrix of the partial network? Why do we need adjacency matrix to describe the structure of\n",
        "# the network?\n",
        "\n",
        "#### ## ANSWER: The adjacency matrix help us to represent the network and it indicates which edge is connected to a node, we can also reconstruct the network using the adjacency matrix.\n",
        "\n",
        "\n",
        "# Extracting partial nodes\n",
        "partial_nodes = [436, 428, 471, 461, 465, 475, 446, 367]\n",
        "partial_graph = G.subgraph(partial_nodes)"
      ]
    },
    {
      "cell_type": "code",
      "execution_count": 46,
      "metadata": {
        "colab": {
          "base_uri": "https://localhost:8080/"
        },
        "id": "36GJuR2pVyHi",
        "outputId": "8666fa3d-11ef-4b78-84c5-9bf2629fe54f"
      },
      "outputs": [
        {
          "name": "stdout",
          "output_type": "stream",
          "text": [
            "[428, 461, 367, 465, 436, 471, 475, 446]\n",
            "[[0 1 0 1 1 0 1 0]\n",
            " [1 0 0 1 1 1 1 0]\n",
            " [0 0 0 0 0 0 1 0]\n",
            " [1 1 0 0 1 1 1 0]\n",
            " [1 1 0 1 0 0 1 0]\n",
            " [0 1 0 1 0 0 1 0]\n",
            " [1 1 1 1 1 1 0 1]\n",
            " [0 0 0 0 0 0 1 0]]\n"
          ]
        }
      ],
      "source": [
        "A = nx.adjacency_matrix(partial_graph)\n",
        "print(partial_graph.nodes)\n",
        "print(A.todense())"
      ]
    },
    {
      "cell_type": "markdown",
      "metadata": {
        "id": "eqzvESOeRUS7"
      },
      "source": [
        "## Twitter Dataset"
      ]
    },
    {
      "cell_type": "code",
      "execution_count": 10,
      "metadata": {
        "colab": {
          "base_uri": "https://localhost:8080/",
          "height": 142
        },
        "id": "yG66an9wRXEs",
        "outputId": "717a51bf-3634-4c2d-81f8-f20fd69db690"
      },
      "outputs": [
        {
          "name": "stdout",
          "output_type": "stream",
          "text": [
            "File downloaded successfully.\n",
            "File downloaded successfully.\n",
            "File downloaded successfully.\n",
            "File downloaded successfully.\n",
            "File downloaded successfully.\n"
          ]
        },
        {
          "data": {
            "application/vnd.google.colaboratory.intrinsic+json": {
              "type": "string"
            },
            "text/plain": [
              "'Finished downloading'"
            ]
          },
          "execution_count": 10,
          "metadata": {},
          "output_type": "execute_result"
        }
      ],
      "source": [
        "urls = [\"https://raw.githubusercontent.com/1250326/exercise_complex_network/e478a2b7e0cc8c0746d4c689a7c52504277a80e1/Datasets/Group3/Twitter-Ego/789071.circles\",\n",
        "        \"https://raw.githubusercontent.com/1250326/exercise_complex_network/e478a2b7e0cc8c0746d4c689a7c52504277a80e1/Datasets/Group3/Twitter-Ego/789071.edges\",\n",
        "        \"https://raw.githubusercontent.com/1250326/exercise_complex_network/e478a2b7e0cc8c0746d4c689a7c52504277a80e1/Datasets/Group3/Twitter-Ego/789071.egofeat\",\n",
        "        \"https://raw.githubusercontent.com/1250326/exercise_complex_network/e478a2b7e0cc8c0746d4c689a7c52504277a80e1/Datasets/Group3/Twitter-Ego/789071.feat\",\n",
        "        \"https://raw.githubusercontent.com/1250326/exercise_complex_network/e478a2b7e0cc8c0746d4c689a7c52504277a80e1/Datasets/Group3/Twitter-Ego/789071.featnames\"]\n",
        "\n",
        "download_data(urls)"
      ]
    },
    {
      "cell_type": "code",
      "execution_count": 14,
      "metadata": {
        "id": "U8yREKlnTUZI"
      },
      "outputs": [],
      "source": [
        "## Extracting datasets\n",
        "features_file = \"789071.feat\"\n",
        "edges_file = \"789071.edges\"\n",
        "egofeat_file = \"789071.egofeat\"\n",
        "featnames_file = \"789071.featnames\"\n",
        "circles_file = \"789071.circles\"\n",
        "\n",
        "G = nx.read_edgelist(edges_file, nodetype=int,create_using=nx.DiGraph())\n",
        "features = pd.read_csv(features_file, sep=\" \", header=None)\n",
        "ego_features = pd.read_csv(egofeat_file, sep=\" \", header=None)\n",
        "feat_names = pd.read_csv(featnames_file, sep=\" \", header=None)\n",
        "circles = pd.read_csv(circles_file, sep=\" \", header=None)\n",
        "\n",
        "# Add features to each node in the graph\n",
        "for i, node in enumerate(G.nodes()):\n",
        "    G.nodes[node]['features'] = features.iloc[i].values"
      ]
    },
    {
      "cell_type": "code",
      "execution_count": 15,
      "metadata": {
        "colab": {
          "base_uri": "https://localhost:8080/"
        },
        "id": "9rnJRiymAJ_I",
        "outputId": "333d1f48-b9a6-4f71-bd7d-e98e15265e1f"
      },
      "outputs": [
        {
          "data": {
            "text/plain": [
              "True"
            ]
          },
          "execution_count": 15,
          "metadata": {},
          "output_type": "execute_result"
        }
      ],
      "source": [
        "## Check if it is a Directed Graph\n",
        "nx.is_directed(G)"
      ]
    },
    {
      "cell_type": "code",
      "execution_count": 35,
      "metadata": {
        "colab": {
          "base_uri": "https://localhost:8080/"
        },
        "id": "KVY2bDh_UCX5",
        "outputId": "b943c4b6-0482-4c70-9bb2-8f18b35eb22f"
      },
      "outputs": [
        {
          "name": "stdout",
          "output_type": "stream",
          "text": [
            "Number of edges: 1128\n",
            "Number of nodes in the graph: 138\n"
          ]
        }
      ],
      "source": [
        "# (a) How many nodes and edges are there in the networks?\n",
        "number_edges = G.number_of_edges()\n",
        "number_nodes = G.number_of_nodes()\n",
        "print(f'Number of edges: {number_edges}')\n",
        "print(f'Number of nodes in the graph: {number_nodes}')"
      ]
    },
    {
      "cell_type": "code",
      "execution_count": 36,
      "metadata": {
        "colab": {
          "base_uri": "https://localhost:8080/"
        },
        "id": "Vi0HZWrtUHWF",
        "outputId": "0791517e-692a-4ce2-e15d-410e03dd185e"
      },
      "outputs": [
        {
          "name": "stdout",
          "output_type": "stream",
          "text": [
            "Max degree: 62\n",
            "Average Degree: 8.173913043478262\n"
          ]
        }
      ],
      "source": [
        "# (b) What are the maximum degree and the average degree of the networks?\n",
        "degree_sequence = sorted((d for n, d in G.degree()), reverse=True)\n",
        "print(f'Max degree: {max(degree_sequence)}')\n",
        "print(f'Average Degree: {(number_edges) /number_nodes}')"
      ]
    },
    {
      "cell_type": "code",
      "execution_count": 32,
      "metadata": {
        "id": "1BuH4XBQUITL"
      },
      "outputs": [],
      "source": [
        "# (c) Extract 5 - 8 nodes from the network and state them as a partial network. What is the adjacency\n",
        "# matrix of the partial network? \n",
        "# Why do we need adjacency matrix to describe the structure of the network?\n",
        "#### ## ANSWER: The adjacency matrix help us to represent the network and it indicates which edge is connected to a node, we can also reconstruct the network using the adjacency matrix.\n",
        "\n",
        "# Extracting partial nodes\n",
        "partial_nodes = [79312312, 20079982, 191477840, 18953259, 60923426]\n",
        "partial_graph = G.subgraph(partial_nodes)\n"
      ]
    },
    {
      "cell_type": "code",
      "execution_count": 33,
      "metadata": {
        "colab": {
          "base_uri": "https://localhost:8080/"
        },
        "id": "DLuu96USUbhU",
        "outputId": "26530d72-2713-45c8-c905-741374c286a5"
      },
      "outputs": [
        {
          "name": "stdout",
          "output_type": "stream",
          "text": [
            "[60923426, 18953259, 20079982, 191477840, 79312312]\n",
            "[[0 1 1 0 0]\n",
            " [0 0 1 1 1]\n",
            " [0 1 0 1 1]\n",
            " [0 1 0 0 0]\n",
            " [0 1 1 0 0]]\n"
          ]
        }
      ],
      "source": [
        "A = nx.adjacency_matrix(partial_graph)\n",
        "print(partial_graph.nodes)\n",
        "print(A.todense())"
      ]
    }
  ],
  "metadata": {
    "accelerator": "GPU",
    "colab": {
      "gpuType": "T4",
      "provenance": []
    },
    "kernelspec": {
      "display_name": "Python 3",
      "name": "python3"
    },
    "language_info": {
      "name": "python"
    }
  },
  "nbformat": 4,
  "nbformat_minor": 0
}
